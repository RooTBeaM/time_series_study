{
 "cells": [
  {
   "cell_type": "markdown",
   "metadata": {},
   "source": [
    "Reference : https://github.com/atulpatelDS/Youtube/blob/main/Feature_Engineering/Feature%20Selection%20using%20Mutual%20Information%20-%20Tutorial%206.ipynb\n",
    "\n",
    "<span style=\"color:green\"> **Relation between 'Information Gain' and 'Mutual Information'**\n",
    "\n",
    "Mutual Information and Information Gain are the same thing, although the context or usage of the measure often gives rise to the different names.\n",
    "\n",
    "- Mutual information is a measure of dependence or “mutual dependence” between two random variables(x and y). \n",
    "- It measures the amount of information obtained about one variable through observing the other variable. In other\n",
    "  words, it determines how much we can know about one variable by understanding another—it’s a little bit like \n",
    "  correlation, but mutual information is more general.\n",
    "- In machine learning, mutual information measures how much information the presence/absence of a feature contributes\n",
    "  to making the correct prediction on Y.\n",
    "- Mutual information (MI)between two random variables is a non-negative value, which measures the dependency between\n",
    "  the variables. It is equal to zero if and only if two random variables are independent, and higher values mean higher\n",
    "  dependency.\n",
    "- The mutual information between two random variables X and Y can be stated formally as follows:\n",
    "\n",
    "  **I(X ; Y) = H(X) – H(X | Y)**\n",
    "  \n",
    "  - Where I(X ; Y) is the mutual information for X and Y, \n",
    "  - H(X) is the entropy for X and H(X | Y) is the conditional entropy for X given Y.\n",
    "  \n",
    "- Mutual information is a measure of dependence or “mutual dependence” between two random variables. As such, the \n",
    "  measure is symmetrical, meaning that I(X ; Y) = I(Y ; X)."
   ]
  },
  {
   "cell_type": "code",
   "execution_count": 1,
   "metadata": {},
   "outputs": [],
   "source": [
    "\n",
    "import pandas as pd\n",
    "import numpy as np\n",
    "import seaborn as sns\n",
    "import matplotlib.pyplot as plt\n",
    "from scipy import stats\n",
    "\n",
    "from sklearn.linear_model import LinearRegression\n",
    "from sklearn.metrics import mean_absolute_error\n",
    "from sklearn.preprocessing import StandardScaler, MinMaxScaler\n",
    "from sklearn.decomposition import PCA\n",
    "\n",
    "def MAE(y_true,y_pred):\n",
    "    return round(mean_absolute_error(y_true,y_pred),2)"
   ]
  },
  {
   "cell_type": "code",
   "execution_count": 2,
   "metadata": {},
   "outputs": [
    {
     "data": {
      "text/plain": [
       "((1059, 84), (400, 84))"
      ]
     },
     "execution_count": 2,
     "metadata": {},
     "output_type": "execute_result"
    }
   ],
   "source": [
    "num = 400\n",
    "target = 'y2'\n",
    "df_fulldata = pd.read_csv(\"./src/generated_data.csv\").drop(columns = ['trend_data','season_data','noise_data','actual','y','y1','actual_y1','actual_y2'])\n",
    "df_train = df_fulldata.loc[0:df_fulldata.shape[0]-num-1]\n",
    "df_test = df_fulldata.loc[df_fulldata.shape[0]-num:]\n",
    "\n",
    "X_train = df_train.drop(columns=target)\n",
    "y_train = df_train[target]\n",
    "X_test = df_test.drop(columns=target)\n",
    "y_test = df_test[target]\n",
    "\n",
    "X_train.shape,X_test.shape"
   ]
  },
  {
   "cell_type": "code",
   "execution_count": 3,
   "metadata": {},
   "outputs": [],
   "source": [
    "scaler = StandardScaler()\n",
    "pca = PCA(n_components=0.95)\n",
    "mm = MinMaxScaler()\n",
    "\n",
    "X_mm_train = mm.fit_transform(X_train)\n",
    "X_mm_test = mm.transform(X_test)\n",
    "\n",
    "y_mm_train = mm.fit_transform(y_train.to_numpy().reshape(-1,1))\n",
    "y_mm_test = mm.transform(y_test.to_numpy().reshape(-1,1))\n",
    "\n",
    "X_pca_train = pca.fit_transform(scaler.fit_transform(X_train))\n",
    "X_pca_test = pca.transform(scaler.transform(X_test))\n",
    "\n",
    "df_pca_train = pd.DataFrame(X_pca_train)\n",
    "df_pca_test = pd.DataFrame(X_pca_test)"
   ]
  },
  {
   "cell_type": "code",
   "execution_count": 4,
   "metadata": {},
   "outputs": [
    {
     "name": "stdout",
     "output_type": "stream",
     "text": [
      "R^2: 0.877497\n",
      "MAE train : 8.41\n",
      "R^2: 0.479804\n",
      "MAE test : 8.77\n"
     ]
    }
   ],
   "source": [
    "base_model = LinearRegression().fit(X_train, y_train)\n",
    "# Returning the R^2 for the model\n",
    "base_model_r2 = base_model.score(X_train, y_train)\n",
    "y_pred = base_model.predict(X_train)\n",
    "print(f'R^2: {base_model_r2:4f}')\n",
    "print(f\"MAE train : {MAE(y_pred, y_train)}\")\n",
    "\n",
    "base_model_r2 = base_model.score(X_test, y_test)\n",
    "y_pred = base_model.predict(X_test)\n",
    "print(f'R^2: {base_model_r2:4f}')\n",
    "print(f\"MAE test : {MAE(y_pred, y_test)}\")"
   ]
  },
  {
   "cell_type": "markdown",
   "metadata": {},
   "source": [
    "# Mutual Information(MI)"
   ]
  },
  {
   "cell_type": "code",
   "execution_count": 34,
   "metadata": {},
   "outputs": [
    {
     "data": {
      "text/plain": [
       "ma_365        1.027428\n",
       "sum_365       1.027428\n",
       "sum_180       1.007886\n",
       "ma_180        1.007886\n",
       "ma_6          0.969920\n",
       "                ...   \n",
       "diff_ma_8     0.000000\n",
       "diff_8        0.000000\n",
       "diff_ma_7     0.000000\n",
       "diff_7        0.000000\n",
       "diff_ma_12    0.000000\n",
       "Length: 84, dtype: float64"
      ]
     },
     "execution_count": 34,
     "metadata": {},
     "output_type": "execute_result"
    }
   ],
   "source": [
    "from sklearn.feature_selection import SelectKBest, mutual_info_regression\n",
    "\n",
    "mir = mutual_info_regression(X_train,y_train)\n",
    "mrs_score = pd.Series(mir,index=X_train.columns)\n",
    "mrs_score.sort_values(ascending=False)"
   ]
  },
  {
   "cell_type": "code",
   "execution_count": 32,
   "metadata": {},
   "outputs": [
    {
     "data": {
      "text/plain": [
       "((1059, 40), (400, 40))"
      ]
     },
     "execution_count": 32,
     "metadata": {},
     "output_type": "execute_result"
    }
   ],
   "source": [
    "mir = SelectKBest(score_func=mutual_info_regression, k=40)\n",
    "df_mir_train = mir.fit_transform(X_train,y_train)\n",
    "df_mir_test = mir.transform(X_test)\n",
    "df_mir_train.shape,df_mir_test.shape"
   ]
  },
  {
   "cell_type": "code",
   "execution_count": 31,
   "metadata": {},
   "outputs": [
    {
     "name": "stdout",
     "output_type": "stream",
     "text": [
      "R^2: 0.874163\n",
      "MAE train : 8.6\n",
      "R^2: 0.489106\n",
      "MAE test : 8.65\n"
     ]
    }
   ],
   "source": [
    "mi_model = LinearRegression().fit(df_mir_train, y_train)\n",
    "# Returning the R^2 for the model\n",
    "mi_model_r2 = mi_model.score(df_mir_train, y_train)\n",
    "y_pred = mi_model.predict(df_mir_train)\n",
    "print(f'R^2: {mi_model_r2:4f}')\n",
    "print(f\"MAE train : {MAE(y_pred, y_train)}\")\n",
    "\n",
    "mi_model_r2 = mi_model.score(df_mir_test, y_test)\n",
    "y_pred = mi_model.predict(df_mir_test)\n",
    "print(f'R^2: {mi_model_r2:4f}')\n",
    "print(f\"MAE test : {MAE(y_pred, y_test)}\")"
   ]
  },
  {
   "cell_type": "code",
   "execution_count": 33,
   "metadata": {},
   "outputs": [
    {
     "name": "stdout",
     "output_type": "stream",
     "text": [
      "R^2: 0.874237\n",
      "MAE train : 8.59\n",
      "R^2: 0.489558\n",
      "MAE test : 8.67\n"
     ]
    }
   ],
   "source": [
    "mi_model = LinearRegression().fit(df_mir_train, y_train)\n",
    "# Returning the R^2 for the model\n",
    "mi_model_r2 = mi_model.score(df_mir_train, y_train)\n",
    "y_pred = mi_model.predict(df_mir_train)\n",
    "print(f'R^2: {mi_model_r2:4f}')\n",
    "print(f\"MAE train : {MAE(y_pred, y_train)}\")\n",
    "\n",
    "mi_model_r2 = mi_model.score(df_mir_test, y_test)\n",
    "y_pred = mi_model.predict(df_mir_test)\n",
    "print(f'R^2: {mi_model_r2:4f}')\n",
    "print(f\"MAE test : {MAE(y_pred, y_test)}\")"
   ]
  },
  {
   "cell_type": "markdown",
   "metadata": {},
   "source": [
    "# Feature list"
   ]
  },
  {
   "cell_type": "code",
   "execution_count": 36,
   "metadata": {},
   "outputs": [
    {
     "data": {
      "text/plain": [
       "Index(['ma_365', 'sum_365', 'sum_180', 'ma_180', 'ma_6', 'sum_7', 'ma_8',\n",
       "       'ma_10', 'ma_4', 'max_14', 'sum_60', 'ma_60', 'ma_12', 'max_7',\n",
       "       'max_30', 'ma_2', 'ma_14', 'sum_14', 'max_60', 'ma_30', 'sum_30',\n",
       "       'max_180', 'max_365', 'lag_0', 'lag_1', 'lag_2', 'lag_180', 'lag_365',\n",
       "       'lag_4', 'lag_3', 'lag_9', 'lag_5', 'lag_11', 'lag_7', 'lag_6', 'lag_8',\n",
       "       'lag_12', 'lag_13', 'lag_10', 'lag_14'],\n",
       "      dtype='object')"
      ]
     },
     "execution_count": 36,
     "metadata": {},
     "output_type": "execute_result"
    }
   ],
   "source": [
    "feature_ls = mrs_score.sort_values(ascending=False).index[:40]\n",
    "feature_ls"
   ]
  },
  {
   "cell_type": "code",
   "execution_count": 37,
   "metadata": {},
   "outputs": [
    {
     "name": "stdout",
     "output_type": "stream",
     "text": [
      "R^2: 0.874237\n",
      "MAE train : 8.59\n",
      "R^2: 0.489558\n",
      "MAE test : 8.67\n"
     ]
    }
   ],
   "source": [
    "mi_model = LinearRegression().fit(X_train[feature_ls], y_train)\n",
    "# Returning the R^2 for the model\n",
    "mi_model_r2 = mi_model.score(X_train[feature_ls], y_train)\n",
    "y_pred = mi_model.predict(X_train[feature_ls])\n",
    "print(f'R^2: {mi_model_r2:4f}')\n",
    "print(f\"MAE train : {MAE(y_pred, y_train)}\")\n",
    "\n",
    "mi_model_r2 = mi_model.score(X_test[feature_ls], y_test)\n",
    "y_pred = mi_model.predict(X_test[feature_ls])\n",
    "print(f'R^2: {mi_model_r2:4f}')\n",
    "print(f\"MAE test : {MAE(y_pred, y_test)}\")"
   ]
  },
  {
   "cell_type": "code",
   "execution_count": null,
   "metadata": {},
   "outputs": [],
   "source": []
  }
 ],
 "metadata": {
  "kernelspec": {
   "display_name": "gpu",
   "language": "python",
   "name": "python3"
  },
  "language_info": {
   "codemirror_mode": {
    "name": "ipython",
    "version": 3
   },
   "file_extension": ".py",
   "mimetype": "text/x-python",
   "name": "python",
   "nbconvert_exporter": "python",
   "pygments_lexer": "ipython3",
   "version": "3.10.11"
  }
 },
 "nbformat": 4,
 "nbformat_minor": 2
}
