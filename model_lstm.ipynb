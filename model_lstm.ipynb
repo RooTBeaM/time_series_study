{
 "cells": [
  {
   "cell_type": "code",
   "execution_count": null,
   "metadata": {},
   "outputs": [],
   "source": [
    "def lstm_data(df,timestamps):\n",
    "    array_data=df.values\n",
    "    sc=MinMaxScaler()\n",
    "    array_data_=sc.fit_transform(array_data)\n",
    "\n",
    "    array=np.empty((0,array_data_.shape[1]))\n",
    "    range_=array_data_.shape[0]-(timestamps-1)\n",
    "    for t in range(range_):\n",
    "        array_data_p=array_data_[t:t+sequenth_length,:]\n",
    "        array=np.vstack((array,array_data_p))\n",
    "\n",
    "    array_=array.reshape(-1,timestamps, array.shape[1])\n",
    "    return array_"
   ]
  }
 ],
 "metadata": {
  "language_info": {
   "name": "python"
  }
 },
 "nbformat": 4,
 "nbformat_minor": 2
}
